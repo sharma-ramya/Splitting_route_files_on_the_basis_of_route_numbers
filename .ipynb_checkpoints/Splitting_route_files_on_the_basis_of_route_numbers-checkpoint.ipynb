{
 "cells": [
  {
   "cell_type": "code",
   "execution_count": 26,
   "metadata": {},
   "outputs": [],
   "source": [
    "\"\"\"\n",
    "This program takes an iput route file with the following data:\n",
    "route_no, stop_seq, bus_stop_cd, bus_stop_nm, km, latitude, longitude\n",
    "and converts it into multiple csv files, one for each route\n",
    "\"\"\"\n",
    "\n",
    "\n",
    "import pandas as pd"
   ]
  },
  {
   "cell_type": "code",
   "execution_count": 27,
   "metadata": {},
   "outputs": [],
   "source": [
    "#please specify input file here\n",
    "input_file = '~/Documents/Miland_Sohni_transportation/Data/New_Shahpur_data/ETIM data/29nov/sample_Error_free_route_data.csv'\n",
    "\n",
    "#output location\n",
    "output_loc = \"~/Documents/Miland_Sohni_transportation/Data/New_Shahpur_data/ETIM data/29nov/route_\""
   ]
  },
  {
   "cell_type": "code",
   "execution_count": 28,
   "metadata": {},
   "outputs": [],
   "source": [
    "\"\"\"\n",
    "read the route data containing all the route details, i.e.:\n",
    "route_no, stop_seq, bus_stop_cd, bus_stop_nm, km, latitude, longitude\n",
    "\"\"\"\n",
    "read_data = pd.read_csv(input_file, delimiter = ',')"
   ]
  },
  {
   "cell_type": "code",
   "execution_count": 29,
   "metadata": {},
   "outputs": [
    {
     "data": {
      "text/html": [
       "<div>\n",
       "<style scoped>\n",
       "    .dataframe tbody tr th:only-of-type {\n",
       "        vertical-align: middle;\n",
       "    }\n",
       "\n",
       "    .dataframe tbody tr th {\n",
       "        vertical-align: top;\n",
       "    }\n",
       "\n",
       "    .dataframe thead th {\n",
       "        text-align: right;\n",
       "    }\n",
       "</style>\n",
       "<table border=\"1\" class=\"dataframe\">\n",
       "  <thead>\n",
       "    <tr style=\"text-align: right;\">\n",
       "      <th></th>\n",
       "      <th>route_no</th>\n",
       "      <th>stop_seq</th>\n",
       "      <th>bus_stop_cd</th>\n",
       "      <th>bus_stop_nm</th>\n",
       "      <th>km</th>\n",
       "      <th>latitude</th>\n",
       "      <th>longitude</th>\n",
       "    </tr>\n",
       "  </thead>\n",
       "  <tbody>\n",
       "    <tr>\n",
       "      <th>2</th>\n",
       "      <td>143</td>\n",
       "      <td>3</td>\n",
       "      <td>PDGHA</td>\n",
       "      <td>PADGHA</td>\n",
       "      <td>20.2</td>\n",
       "      <td>19.367603</td>\n",
       "      <td>73.180971</td>\n",
       "    </tr>\n",
       "  </tbody>\n",
       "</table>\n",
       "</div>"
      ],
      "text/plain": [
       "   route_no  stop_seq bus_stop_cd bus_stop_nm    km   latitude  longitude\n",
       "2       143         3       PDGHA      PADGHA  20.2  19.367603  73.180971"
      ]
     },
     "execution_count": 29,
     "metadata": {},
     "output_type": "execute_result"
    }
   ],
   "source": [
    "read_data.iloc[[2]]"
   ]
  },
  {
   "cell_type": "code",
   "execution_count": 30,
   "metadata": {},
   "outputs": [
    {
     "name": "stdout",
     "output_type": "stream",
     "text": [
      "~/Documents/Miland_Sohni_transportation/Data/New_Shahpur_data/ETIM data/29nov/route_143.csv\n"
     ]
    }
   ],
   "source": [
    "#sample output file\n",
    "sample_output_file = output_loc + str(read_data.iloc[0,0]) + \".csv\"\n",
    "\n",
    "print(sample_output_file)"
   ]
  },
  {
   "cell_type": "code",
   "execution_count": 31,
   "metadata": {},
   "outputs": [],
   "source": [
    "\n",
    "#sample writing dataframe to output_file \n",
    "output_df.to_csv(output_file, encoding='utf-8', index=False)"
   ]
  },
  {
   "cell_type": "code",
   "execution_count": 25,
   "metadata": {},
   "outputs": [
    {
     "name": "stdout",
     "output_type": "stream",
     "text": [
      "Data written to  ~/Documents/Miland_Sohni_transportation/Data/New_Shahpur_data/ETIM data/29nov/route_143.csv\n",
      "Data written to  ~/Documents/Miland_Sohni_transportation/Data/New_Shahpur_data/ETIM data/29nov/route_203.csv\n",
      "Data written to  ~/Documents/Miland_Sohni_transportation/Data/New_Shahpur_data/ETIM data/29nov/route_204.csv\n"
     ]
    }
   ],
   "source": [
    "for i in read_data.index:\n",
    "    \n",
    "    #add the first stop to the data\n",
    "    if (read_data.iloc[i,1] == 1):\n",
    "        \n",
    "        #To cover the first case, i.e. i is 0 and there is nodata before it to save in a file\n",
    "        if (i > 0):            \n",
    "            output_df.to_csv(output_file, encoding='utf-8', index=False)\n",
    "            print (\"Data written to \", output_file)\n",
    "            \n",
    "        output_file = output_loc + str(read_data.iloc[i,0]) + \".csv\"\n",
    "        output_df = pd.DataFrame()\n",
    "    \n",
    "    output_df = output_df.append(read_data.iloc[[i]])\n",
    "    \n",
    "#For the last file:\n",
    "output_df.to_csv(output_file, encoding='utf-8', index=False)\n",
    "print (\"Data written to \", output_file)\n",
    "        \n",
    "    "
   ]
  },
  {
   "cell_type": "code",
   "execution_count": null,
   "metadata": {},
   "outputs": [],
   "source": []
  }
 ],
 "metadata": {
  "kernelspec": {
   "display_name": "Python 3",
   "language": "python",
   "name": "python3"
  },
  "language_info": {
   "codemirror_mode": {
    "name": "ipython",
    "version": 3
   },
   "file_extension": ".py",
   "mimetype": "text/x-python",
   "name": "python",
   "nbconvert_exporter": "python",
   "pygments_lexer": "ipython3",
   "version": "3.6.9"
  }
 },
 "nbformat": 4,
 "nbformat_minor": 2
}
